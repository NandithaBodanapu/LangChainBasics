{
 "cells": [
  {
   "cell_type": "code",
   "id": "initial_id",
   "metadata": {
    "collapsed": true,
    "ExecuteTime": {
     "end_time": "2025-04-04T23:29:00.157845Z",
     "start_time": "2025-04-04T23:29:00.105814Z"
    }
   },
   "source": [
    "#references-https://www.youtube.com/watch?v=yF9kGESAi3M&t=1640s\n",
    "import os\n",
    "from dotenv import load_dotenv\n",
    "from langchain.chat_models import init_chat_model\n",
    "from langchain_core.output_parsers import StrOutputParser\n",
    "from langchain_core.runnables import RunnableLambda\n",
    "\n",
    "load_dotenv()\n",
    "os.environ[\"OPENAI_API_KEY\"]=os.getenv(\"OPENAI_API_KEY\")\n",
    "#create model\n",
    "model=init_chat_model(\"gpt-4o-mini\",model_provider=\"openai\")"
   ],
   "outputs": [],
   "execution_count": 10
  },
  {
   "metadata": {
    "ExecuteTime": {
     "end_time": "2025-04-04T23:29:03.748864Z",
     "start_time": "2025-04-04T23:29:03.010051Z"
    }
   },
   "cell_type": "code",
   "source": [
    "from langchain_core.prompts import ChatPromptTemplate\n",
    "\n",
    "system_template=\"Translate the following from english to {language}\"\n",
    "\n",
    "prompt_template= ChatPromptTemplate.from_messages(\n",
    "    [\n",
    "        (\"system\",system_template),\n",
    "        (\"user\",\"{text}\"),\n",
    "     ]\n",
    ")\n",
    "#stroutput parser -> gives us only the result.content\n",
    "#example of a straight chain / linear chain\n",
    "#we runnable_1|list[runnable_2 to runnable_n-1]| runnable_n\n",
    "# in this case, prompt_template excutes first , followed by model , folloed by strOutputparser\n",
    "\n",
    "chain= prompt_template | model | StrOutputParser()\n",
    "\n",
    "result=chain.invoke({\"language\":\"hindi\",\"text\":\"Evening\"})\n",
    "print(result)"
   ],
   "id": "4cd32266d9e2f63f",
   "outputs": [
    {
     "name": "stdout",
     "output_type": "stream",
     "text": [
      "शाम\n"
     ]
    }
   ],
   "execution_count": 11
  },
  {
   "metadata": {
    "ExecuteTime": {
     "end_time": "2025-04-04T23:29:09.785913Z",
     "start_time": "2025-04-04T23:29:06.757777Z"
    }
   },
   "cell_type": "code",
   "source": [
    "system_template=\"enter {number} of species of {animal}\"\n",
    "prompt_template= ChatPromptTemplate.from_messages(\n",
    "    [\n",
    "        (\"system\",system_template),\n",
    "        (\"user\",\" name {number} species of {animal}\"),\n",
    "    ]\n",
    ")\n",
    "\n",
    "#usin\n",
    "res_title_case=RunnableLambda(lambda x:x.title())\n",
    "count_words=RunnableLambda(lambda x:f\"word count: {len(x.split())}\\n{x}\")\n",
    "\n",
    "chain =prompt_template|model|StrOutputParser()|res_title_case|count_words\n",
    "\n",
    "response=chain.invoke({\"number\":5,\"animal\":\"Penguin\"})\n",
    "print(response)\n"
   ],
   "id": "6a67cb2216a88647",
   "outputs": [
    {
     "name": "stdout",
     "output_type": "stream",
     "text": [
      "word count: 45\n",
      "Sure! Here Are Five Species Of Penguins:\n",
      "\n",
      "1. **Emperor Penguin (Aptenodytes Forsteri)**\n",
      "2. **King Penguin (Aptenodytes Patagonicus)**\n",
      "3. **Adélie Penguin (Pygoscelis Adeliae)**\n",
      "4. **Chinstrap Penguin (Pygoscelis Antarcticus)**\n",
      "5. **Gentoo Penguin (Pygoscelis Papua)**\n",
      "\n",
      "If You Need More Information About Any Specific Species, Feel Free To Ask!\n"
     ]
    }
   ],
   "execution_count": 12
  },
  {
   "metadata": {},
   "cell_type": "code",
   "outputs": [],
   "execution_count": null,
   "source": "#parallel chains\n",
   "id": "b7ce6e53e532afe1"
  }
 ],
 "metadata": {
  "kernelspec": {
   "display_name": "Python 3",
   "language": "python",
   "name": "python3"
  },
  "language_info": {
   "codemirror_mode": {
    "name": "ipython",
    "version": 2
   },
   "file_extension": ".py",
   "mimetype": "text/x-python",
   "name": "python",
   "nbconvert_exporter": "python",
   "pygments_lexer": "ipython2",
   "version": "2.7.6"
  }
 },
 "nbformat": 4,
 "nbformat_minor": 5
}
