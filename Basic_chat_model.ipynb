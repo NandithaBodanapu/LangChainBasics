{
 "cells": [
  {
   "cell_type": "code",
   "id": "initial_id",
   "metadata": {
    "collapsed": true,
    "ExecuteTime": {
     "end_time": "2025-04-03T22:09:19.109683Z",
     "start_time": "2025-04-03T22:09:19.100126Z"
    }
   },
   "source": [
    "#reference https://python.langchain.com/docs/tutorials/llm_chain/\n",
    "import os\n",
    "from dotenv import load_dotenv\n",
    "\n",
    "#to load the env file\n",
    "load_dotenv()\n",
    "api_key = os.getenv(\"OPENAI_API_KEY\")\n",
    "os.environ[\"OPENAI_API_KEY\"] = api_key\n",
    "\n"
   ],
   "outputs": [],
   "execution_count": 10
  },
  {
   "metadata": {
    "ExecuteTime": {
     "end_time": "2025-04-03T22:17:31.203633Z",
     "start_time": "2025-04-03T22:17:29.078160Z"
    }
   },
   "cell_type": "code",
   "source": [
    "from langchain.chat_models import init_chat_model\n",
    "from langchain_core.messages import HumanMessage, SystemMessage\n",
    "#create a model , using ther version and the provider\n",
    "model = init_chat_model(\"gpt-4o-mini\", model_provider=\"openai\")\n",
    "#there are 3 types of messages\n",
    "#systemmessages , kind of the context of the entire conversateion\n",
    "#Humanmessages, the questions that we need to ask as human inputs\n",
    "#AImessages, the result produced by AI\n",
    "messages=[\n",
    "    SystemMessage(\"Convert pounds to kilograms\"),#here the context is conversion of pounds\n",
    "    HumanMessage(\"170\"),\n",
    "]\n",
    "\n",
    "model.invoke(messages).content"
   ],
   "id": "eb40436fc0bacd8d",
   "outputs": [
    {
     "data": {
      "text/plain": [
       "'To convert pounds to kilograms, you can use the conversion factor: 1 pound is approximately equal to 0.453592 kilograms.\\n\\nSo, to convert 170 pounds to kilograms:\\n\\n\\\\[ \\n170 \\\\, \\\\text{pounds} \\\\times 0.453592 \\\\, \\\\text{kg/pound} \\\\approx 77.1106 \\\\, \\\\text{kg} \\n\\\\]\\n\\nTherefore, 170 pounds is approximately 77.11 kilograms.'"
      ]
     },
     "execution_count": 16,
     "metadata": {},
     "output_type": "execute_result"
    }
   ],
   "execution_count": 16
  },
  {
   "metadata": {
    "ExecuteTime": {
     "end_time": "2025-04-03T22:43:16.615158Z",
     "start_time": "2025-04-03T22:43:15.460762Z"
    }
   },
   "cell_type": "code",
   "source": [
    "messages=[\n",
    "    SystemMessage(\"output the sentiment of the user\"),#context is the sentiment of the sentence\n",
    "    HumanMessage(\"I am so mad at the way my kid spoke to me \"),\n",
    "    HumanMessage(\"I am so excited about our trip to Canada\"),\n",
    "    HumanMessage(\"I feel lost in this huge city \"),\n",
    "    HumanMessage(\"I am loosing it\"),\n",
    "\n",
    "]\n",
    "\n",
    "model.invoke(messages).content\n"
   ],
   "id": "4e7ceeae6ac12acc",
   "outputs": [
    {
     "data": {
      "text/plain": [
       "\"The user's sentiments range from anger, excitement, to feelings of being overwhelmed or lost.\""
      ]
     },
     "execution_count": 22,
     "metadata": {},
     "output_type": "execute_result"
    }
   ],
   "execution_count": 22
  },
  {
   "metadata": {
    "ExecuteTime": {
     "end_time": "2025-04-03T22:52:14.628872Z",
     "start_time": "2025-04-03T22:52:13.979547Z"
    }
   },
   "cell_type": "code",
   "source": [
    "#chat model using AI message\n",
    "from langchain_core.messages import AIMessage\n",
    "model.invoke(\n",
    "    [\n",
    "        HumanMessage(content=\"Hello I am Alice\"),\n",
    "        AIMessage(content=\"Hello Alice, How can I help you?\"),\n",
    "        HumanMessage(content=\"Whats my name\"),\n",
    "    ]\n",
    ")"
   ],
   "id": "2fa88e9489f2e1b6",
   "outputs": [
    {
     "data": {
      "text/plain": [
       "AIMessage(content='Your name is Alice. How can I assist you today?', additional_kwargs={'refusal': None}, response_metadata={'token_usage': {'completion_tokens': 13, 'prompt_tokens': 31, 'total_tokens': 44, 'completion_tokens_details': {'accepted_prediction_tokens': 0, 'audio_tokens': 0, 'reasoning_tokens': 0, 'rejected_prediction_tokens': 0}, 'prompt_tokens_details': {'audio_tokens': 0, 'cached_tokens': 0}}, 'model_name': 'gpt-4o-mini-2024-07-18', 'system_fingerprint': 'fp_b376dfbbd5', 'id': 'chatcmpl-BINhuy7e1uJPjwuvxPdTrTl6sBFsK', 'finish_reason': 'stop', 'logprobs': None}, id='run-9882e83b-53ae-4f9e-a3e1-4dba6fde7f10-0', usage_metadata={'input_tokens': 31, 'output_tokens': 13, 'total_tokens': 44, 'input_token_details': {'audio': 0, 'cache_read': 0}, 'output_token_details': {'audio': 0, 'reasoning': 0}})"
      ]
     },
     "execution_count": 23,
     "metadata": {},
     "output_type": "execute_result"
    }
   ],
   "execution_count": 23
  }
 ],
 "metadata": {
  "kernelspec": {
   "display_name": "Python 3",
   "language": "python",
   "name": "python3"
  },
  "language_info": {
   "codemirror_mode": {
    "name": "ipython",
    "version": 2
   },
   "file_extension": ".py",
   "mimetype": "text/x-python",
   "name": "python",
   "nbconvert_exporter": "python",
   "pygments_lexer": "ipython2",
   "version": "2.7.6"
  }
 },
 "nbformat": 4,
 "nbformat_minor": 5
}
