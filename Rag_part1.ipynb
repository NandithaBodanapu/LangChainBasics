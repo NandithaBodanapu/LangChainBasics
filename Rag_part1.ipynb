{
 "cells": [
  {
   "cell_type": "code",
   "id": "initial_id",
   "metadata": {
    "collapsed": true,
    "ExecuteTime": {
     "end_time": "2025-04-28T17:46:41.743100Z",
     "start_time": "2025-04-28T17:46:41.740534Z"
    }
   },
   "source": [
    "#Reference\n",
    "\n",
    "#https://python.langchain.com/docs/tutorials/rag/\n",
    "#https://www.youtube.com/watch?v=yF9kGESAi3M&t=3823s\n",
    "\n",
    "\n",
    "#The RAG has two main components\n",
    "\n",
    "#Indexing - taking data from source and indexing it , happens offline\n",
    "# in other words ,\n",
    "# (Document Loaders) take/load data\n",
    "# (Text Splitters) break it down to chunks\n",
    "# (Embedding model)convert the chunks to embeddings\n",
    "# (Vector store)store the data inform of embeddings\n",
    "\n",
    "#Retrieval- the RAG chain, takes user query at runtime, retrieves relevant data from index, then passes to the model\n",
    "# will be in more detail in RAG part b\n",
    "\n"
   ],
   "outputs": [],
   "execution_count": 2
  },
  {
   "metadata": {
    "ExecuteTime": {
     "end_time": "2025-04-28T17:46:47.648411Z",
     "start_time": "2025-04-28T17:46:47.121358Z"
    }
   },
   "cell_type": "code",
   "source": [
    "# select chatmodel\n",
    "import os\n",
    "from dotenv import load_dotenv\n",
    "from langchain.chat_models import init_chat_model\n",
    "from textdistance import overlap\n",
    "\n",
    "load_dotenv()\n",
    "os.environ[\"OPENAI_API_KEY\"]=os.getenv(\"OPENAI_API_KEY\")\n",
    "\n",
    "llm=init_chat_model(\"gpt-4o-mini\", model_provider=\"openai\")\n"
   ],
   "id": "3e0595fd8c4eaaac",
   "outputs": [],
   "execution_count": 3
  },
  {
   "metadata": {
    "ExecuteTime": {
     "end_time": "2025-04-28T17:46:57.781557Z",
     "start_time": "2025-04-28T17:46:51.383751Z"
    }
   },
   "cell_type": "code",
   "source": [
    "#having issue with openai embedding\n",
    "#from langchain_openai import OpenAIEmbeddings\n",
    "#embeddings=OpenAIEmbeddings(model=\"text-embedding-3-large\")\n",
    "\n",
    "#replaced it with hugging face embedding\n",
    "\n",
    "from langchain_huggingface import HuggingFaceEmbeddings\n",
    "embeddings = HuggingFaceEmbeddings(model_name=\"sentence-transformers/all-mpnet-base-v2\")\n"
   ],
   "id": "3ecbbbf307da17b8",
   "outputs": [],
   "execution_count": 4
  },
  {
   "metadata": {
    "ExecuteTime": {
     "end_time": "2025-04-28T17:47:04.015728Z",
     "start_time": "2025-04-28T17:47:04.012580Z"
    }
   },
   "cell_type": "code",
   "source": [
    "#tried using vector stores,inmemory, had issues when i tried to implement it like this\n",
    "# hence used FAISS\n",
    "#from langchain_core.vectorstores import InMemoryVectorStore\n",
    "#vector_store=InMemoryVectorStore(embeddings)\n"
   ],
   "id": "3fec83ab71337c2f",
   "outputs": [],
   "execution_count": 5
  },
  {
   "metadata": {
    "ExecuteTime": {
     "end_time": "2025-04-28T17:47:10.034156Z",
     "start_time": "2025-04-28T17:47:09.519244Z"
    }
   },
   "cell_type": "code",
   "source": [
    "import bs4\n",
    "from langchain_community.document_loaders import WebBaseLoader\n",
    "# we will receive a html file\n",
    "# we are going to select only title, header and content  from the html\n",
    "bs4_strainer=bs4.SoupStrainer(class_=(\"post-title\",\"post-header\",\"post-content\"))\n",
    "loader = WebBaseLoader(\n",
    "    web_paths=(\"https://lilianweng.github.io/posts/2023-06-23-agent/\",),\n",
    "    bs_kwargs={\"parse_only\": bs4_strainer},\n",
    ")\n",
    "docs=loader.load()\n",
    "assert len(docs)==1\n",
    "print(f\"Total document length(characters) {len(docs[0].page_content)}\")"
   ],
   "id": "c4c4191c40f6b9a5",
   "outputs": [
    {
     "name": "stderr",
     "output_type": "stream",
     "text": [
      "USER_AGENT environment variable not set, consider setting it to identify your requests.\n"
     ]
    },
    {
     "name": "stdout",
     "output_type": "stream",
     "text": [
      "Total document length(characters) 43130\n"
     ]
    }
   ],
   "execution_count": 6
  },
  {
   "metadata": {
    "ExecuteTime": {
     "end_time": "2025-04-28T17:47:12.513877Z",
     "start_time": "2025-04-28T17:47:12.498133Z"
    }
   },
   "cell_type": "code",
   "source": [
    "#spliting the document for vector storage\n",
    "from langchain_text_splitters import RecursiveCharacterTextSplitter\n",
    "\n",
    "text_splitter=RecursiveCharacterTextSplitter(\n",
    "    chunk_size=1000,\n",
    "    chunk_overlap=200,\n",
    "    add_start_index=True\n",
    ")\n",
    "all_splits=text_splitter.split_documents(docs)\n",
    "print(len(all_splits))\n",
    "print(all_splits[0])\n",
    "#print(len(all_splits[65]))\n"
   ],
   "id": "641a41b050e92c83",
   "outputs": [
    {
     "name": "stdout",
     "output_type": "stream",
     "text": [
      "66\n",
      "page_content='LLM Powered Autonomous Agents\n",
      "    \n",
      "Date: June 23, 2023  |  Estimated Reading Time: 31 min  |  Author: Lilian Weng\n",
      "\n",
      "\n",
      "Building agents with LLM (large language model) as its core controller is a cool concept. Several proof-of-concepts demos, such as AutoGPT, GPT-Engineer and BabyAGI, serve as inspiring examples. The potentiality of LLM extends beyond generating well-written copies, stories, essays and programs; it can be framed as a powerful general problem solver.\n",
      "Agent System Overview#\n",
      "In a LLM-powered autonomous agent system, LLM functions as the agent’s brain, complemented by several key components:\n",
      "\n",
      "Planning\n",
      "\n",
      "Subgoal and decomposition: The agent breaks down large tasks into smaller, manageable subgoals, enabling efficient handling of complex tasks.\n",
      "Reflection and refinement: The agent can do self-criticism and self-reflection over past actions, learn from mistakes and refine them for future steps, thereby improving the quality of final results.\n",
      "\n",
      "\n",
      "Memory' metadata={'source': 'https://lilianweng.github.io/posts/2023-06-23-agent/', 'start_index': 8}\n"
     ]
    }
   ],
   "execution_count": 7
  },
  {
   "metadata": {
    "ExecuteTime": {
     "end_time": "2025-04-28T17:47:23.180985Z",
     "start_time": "2025-04-28T17:47:17.515411Z"
    }
   },
   "cell_type": "code",
   "source": [
    "\n",
    "from langchain.vectorstores import FAISS\n",
    "vector_store = FAISS.from_documents(documents=all_splits, embedding=embeddings)\n",
    "#storing documents\n",
    "document_ids=vector_store.add_documents(documents=all_splits)\n",
    "print(document_ids[0:5])"
   ],
   "id": "60faad216724b7bb",
   "outputs": [
    {
     "name": "stdout",
     "output_type": "stream",
     "text": [
      "['fca3575b-0684-4975-9355-b6f5b29ad790', 'a1834f19-762c-43fa-8192-33ab62d8a939', '067c63cd-f3ac-4776-81e6-d7039e3ea86c', 'a882b648-9524-4bed-907c-79cb2a111c90', '297bbfd7-5666-4b4f-8c5e-fa28fd9d48d8']\n"
     ]
    }
   ],
   "execution_count": 8
  },
  {
   "metadata": {
    "ExecuteTime": {
     "end_time": "2025-04-28T17:47:29.232894Z",
     "start_time": "2025-04-28T17:47:29.029737Z"
    }
   },
   "cell_type": "code",
   "source": [
    "# Retrieval and generation\n",
    "from langchain import hub\n",
    "prompt = hub.pull(\"rlm/rag-prompt\")\n",
    "#example_messages="
   ],
   "id": "4f89e2a7fab22f6",
   "outputs": [
    {
     "name": "stderr",
     "output_type": "stream",
     "text": [
      "/opt/anaconda3/lib/python3.12/site-packages/langsmith/client.py:241: LangSmithMissingAPIKeyWarning: API key must be provided when using hosted LangSmith API\n",
      "  warnings.warn(\n"
     ]
    }
   ],
   "execution_count": 9
  },
  {
   "metadata": {
    "ExecuteTime": {
     "end_time": "2025-04-28T17:49:50.835317Z",
     "start_time": "2025-04-28T17:49:50.831768Z"
    }
   },
   "cell_type": "code",
   "source": [
    "#create a graph\n",
    "from langchain_core.documents import Document\n",
    "from typing_extensions import List, TypedDict\n",
    "\n",
    "#create state class\n",
    "class State(TypedDict):\n",
    "    question:str\n",
    "    context:List[Document]\n",
    "    answer:str\n"
   ],
   "id": "cf1f9b74747dc239",
   "outputs": [],
   "execution_count": 13
  },
  {
   "metadata": {
    "ExecuteTime": {
     "end_time": "2025-04-28T17:50:01.122913Z",
     "start_time": "2025-04-28T17:50:01.119250Z"
    }
   },
   "cell_type": "code",
   "source": [
    "#create nodes\n",
    "def retrieve(state:State):\n",
    "    retrieved_docs=vector_store.similarity_search(state[\"question\"])\n",
    "    return {\"context\":retrieved_docs}\n",
    "\n",
    "def generate(state:State):\n",
    "    docs_content=\"\\n\\n\".join(doc.page_content for doc in state[\"context\"])\n",
    "    messages=prompt.invoke({\"question\":state[\"question\"],\"context\":docs_content})\n",
    "    response=llm.invoke(messages)\n",
    "    return {\"answer\":response.content}"
   ],
   "id": "e22898fb3a867152",
   "outputs": [],
   "execution_count": 15
  },
  {
   "metadata": {
    "ExecuteTime": {
     "end_time": "2025-04-28T17:50:05.751909Z",
     "start_time": "2025-04-28T17:50:05.678395Z"
    }
   },
   "cell_type": "code",
   "source": [
    "#create edges for control flow\n",
    "from langgraph.graph import START, StateGraph\n",
    "graph_builder=StateGraph(State).add_sequence([retrieve,generate])\n",
    "graph_builder.add_edge(START,\"retrieve\")\n",
    "graph=graph_builder.compile()\n"
   ],
   "id": "727c2e4a8a2c9184",
   "outputs": [],
   "execution_count": 16
  },
  {
   "metadata": {
    "ExecuteTime": {
     "end_time": "2025-04-28T17:50:13.742874Z",
     "start_time": "2025-04-28T17:50:13.452227Z"
    }
   },
   "cell_type": "code",
   "source": [
    "from IPython.display import display,Image\n",
    "\n",
    "display(Image(graph.get_graph().draw_mermaid_png()))\n"
   ],
   "id": "a4c201c2a1a8c4e3",
   "outputs": [
    {
     "data": {
      "image/png": "[encoded data removed]",
      "text/plain": [
       "<IPython.core.display.Image object>"
      ]
     },
     "metadata": {},
     "output_type": "display_data"
    }
   ],
   "execution_count": 17
  },
  {
   "metadata": {
    "ExecuteTime": {
     "end_time": "2025-04-28T17:55:48.187133Z",
     "start_time": "2025-04-28T17:55:45.111564Z"
    }
   },
   "cell_type": "code",
   "source": [
    "result=graph.invoke({\"question\":\"What is Task Decomposition?\"})\n",
    "print(f'Context: {result[\"context\"]}\\n\\n')\n",
    "print(f'Answer: {result[\"answer\"]}')"
   ],
   "id": "d0cb308674f1c89a",
   "outputs": [
    {
     "name": "stdout",
     "output_type": "stream",
     "text": [
      "Context: [Document(id='9dc8b4a2-575a-442c-8062-2df2e43969d5', metadata={'source': 'https://lilianweng.github.io/posts/2023-06-23-agent/', 'start_index': 2192}, page_content='Tree of Thoughts (Yao et al. 2023) extends CoT by exploring multiple reasoning possibilities at each step. It first decomposes the problem into multiple thought steps and generates multiple thoughts per step, creating a tree structure. The search process can be BFS (breadth-first search) or DFS (depth-first search) with each state evaluated by a classifier (via a prompt) or majority vote.\\nTask decomposition can be done (1) by LLM with simple prompting like \"Steps for XYZ.\\\\n1.\", \"What are the subgoals for achieving XYZ?\", (2) by using task-specific instructions; e.g. \"Write a story outline.\" for writing a novel, or (3) with human inputs.'), Document(id='a882b648-9524-4bed-907c-79cb2a111c90', metadata={'source': 'https://lilianweng.github.io/posts/2023-06-23-agent/', 'start_index': 2192}, page_content='Tree of Thoughts (Yao et al. 2023) extends CoT by exploring multiple reasoning possibilities at each step. It first decomposes the problem into multiple thought steps and generates multiple thoughts per step, creating a tree structure. The search process can be BFS (breadth-first search) or DFS (depth-first search) with each state evaluated by a classifier (via a prompt) or majority vote.\\nTask decomposition can be done (1) by LLM with simple prompting like \"Steps for XYZ.\\\\n1.\", \"What are the subgoals for achieving XYZ?\", (2) by using task-specific instructions; e.g. \"Write a story outline.\" for writing a novel, or (3) with human inputs.'), Document(id='131ab2b1-afed-46dd-b5e5-9d5f9b49d71f', metadata={'source': 'https://lilianweng.github.io/posts/2023-06-23-agent/', 'start_index': 19372}, page_content=\"(3) Task execution: Expert models execute on the specific tasks and log results.\\nInstruction:\\n\\nWith the input and the inference results, the AI assistant needs to describe the process and results. The previous stages can be formed as - User Input: {{ User Input }}, Task Planning: {{ Tasks }}, Model Selection: {{ Model Assignment }}, Task Execution: {{ Predictions }}. You must first answer the user's request in a straightforward manner. Then describe the task process and show your analysis and model inference results to the user in the first person. If inference results contain a file path, must tell the user the complete file path.\"), Document(id='59430898-a898-489c-a21e-0eeef15b79d9', metadata={'source': 'https://lilianweng.github.io/posts/2023-06-23-agent/', 'start_index': 19372}, page_content=\"(3) Task execution: Expert models execute on the specific tasks and log results.\\nInstruction:\\n\\nWith the input and the inference results, the AI assistant needs to describe the process and results. The previous stages can be formed as - User Input: {{ User Input }}, Task Planning: {{ Tasks }}, Model Selection: {{ Model Assignment }}, Task Execution: {{ Predictions }}. You must first answer the user's request in a straightforward manner. Then describe the task process and show your analysis and model inference results to the user in the first person. If inference results contain a file path, must tell the user the complete file path.\")]\n",
      "\n",
      "\n",
      "Answer: Task decomposition involves breaking down a larger problem into smaller, manageable steps or subgoals. This can be achieved through various methods such as prompting with specific questions, using task-specific instructions, or incorporating human input. In the context of the Tree of Thoughts framework, it generates a tree structure of multiple thoughts per step to explore various reasoning possibilities.\n"
     ]
    }
   ],
   "execution_count": 19
  }
 ],
 "metadata": {
  "kernelspec": {
   "display_name": "Python 3",
   "language": "python",
   "name": "python3"
  },
  "language_info": {
   "codemirror_mode": {
    "name": "ipython",
    "version": 2
   },
   "file_extension": ".py",
   "mimetype": "text/x-python",
   "name": "python",
   "nbconvert_exporter": "python",
   "pygments_lexer": "ipython2",
   "version": "2.7.6"
  }
 },
 "nbformat": 4,
 "nbformat_minor": 5
}
