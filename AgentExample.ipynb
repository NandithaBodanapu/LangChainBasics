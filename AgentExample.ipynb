{
 "cells": [
  {
   "cell_type": "code",
   "execution_count": null,
   "id": "initial_id",
   "metadata": {
    "collapsed": true
   },
   "outputs": [],
   "source": [
    "#referance\n",
    "#https://python.langchain.com/docs/tutorials/agents/\n",
    "#https://www.youtube.com/watch?v=yF9kGESAi3M&t=3823s\n",
    "\n",
    "#agent\n",
    "#llms just output texts , cannot perform actions\n",
    "# agents -use llms to reason out their actions\n",
    "#agent = (action->observation->thought)multiple iteration -> final answer\n",
    "#tools\n",
    "#a function schema - which define name, description and arguments\n",
    "#tool calling\n",
    "# a chat model that API , accepts tool schema\n",
    "# we will be using Tavily a  search engine\n",
    "\n",
    "\n",
    "\n"
   ]
  },
  {
   "metadata": {
    "ExecuteTime": {
     "end_time": "2025-04-11T18:08:16.558187Z",
     "start_time": "2025-04-11T18:08:16.549072Z"
    }
   },
   "cell_type": "code",
   "source": [
    "#set the api keys\n",
    "import os\n",
    "from dotenv import load_dotenv\n",
    "\n",
    "#from Basic_chat_model import messages\n",
    "\n",
    "\n",
    "load_dotenv()\n",
    "os.environ['OPENAI_API_KEY']=os.getenv(\"OPENAI_API_KEY\")\n",
    "os.environ['TAVILY_API_KEY']=os.getenv(\"TAVILY_API_KEY\")\n"
   ],
   "id": "c53dddd747cadf56",
   "outputs": [
    {
     "name": "stdout",
     "output_type": "stream",
     "text": [
      "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\n"
     ]
    }
   ],
   "execution_count": 3
  },
  {
   "metadata": {
    "ExecuteTime": {
     "end_time": "2025-04-11T18:14:37.011490Z",
     "start_time": "2025-04-11T18:14:35.464107Z"
    }
   },
   "cell_type": "code",
   "source": [
    "from langchain_community.tools.tavily_search import TavilySearchResults\n",
    "\n",
    "search=TavilySearchResults(max_results=2)\n",
    "search_result=search.invoke(\"What is the weather at Fremont now?\")\n",
    "#print(search_result)\n",
    "tools=[search]\n"
   ],
   "id": "7ec18c12a2e6043e",
   "outputs": [],
   "execution_count": 5
  },
  {
   "metadata": {
    "ExecuteTime": {
     "end_time": "2025-04-11T18:19:22.474022Z",
     "start_time": "2025-04-11T18:19:22.431638Z"
    }
   },
   "cell_type": "code",
   "source": [
    "from langchain.chat_models import init_chat_model\n",
    "model=init_chat_model(\"gpt-4o-mini\", model_provider=\"openai\")"
   ],
   "id": "7076fe565c9beabc",
   "outputs": [],
   "execution_count": 11
  },
  {
   "metadata": {
    "ExecuteTime": {
     "end_time": "2025-04-11T18:19:25.995803Z",
     "start_time": "2025-04-11T18:19:25.123951Z"
    }
   },
   "cell_type": "code",
   "source": [
    "from langchain_core.messages import HumanMessage\n",
    "response=model.invoke([HumanMessage(content=\"Hi\")])\n",
    "response.content"
   ],
   "id": "3c2eaabe73af752d",
   "outputs": [
    {
     "data": {
      "text/plain": [
       "'Hello! How can I assist you today?'"
      ]
     },
     "execution_count": 12,
     "metadata": {},
     "output_type": "execute_result"
    }
   ],
   "execution_count": 12
  },
  {
   "metadata": {
    "ExecuteTime": {
     "end_time": "2025-04-11T18:26:17.732745Z",
     "start_time": "2025-04-11T18:26:17.723375Z"
    }
   },
   "cell_type": "code",
   "source": [
    "#bind the tools to the call\n",
    "model_with_tools=model.bind_tools(tools)"
   ],
   "id": "497653712eb6ee19",
   "outputs": [],
   "execution_count": 20
  },
  {
   "metadata": {
    "ExecuteTime": {
     "end_time": "2025-04-11T18:26:20.077235Z",
     "start_time": "2025-04-11T18:26:19.473127Z"
    }
   },
   "cell_type": "code",
   "source": [
    "# to understand the difference\n",
    "#example 1\n",
    "response=model_with_tools.invoke([HumanMessage(content=\"Hi\")])\n",
    "print(\"content :\", response.content)\n",
    "print(\"tool_calls :\",response.tool_calls)"
   ],
   "id": "11c27d9c7a60fff5",
   "outputs": [
    {
     "name": "stdout",
     "output_type": "stream",
     "text": [
      "content : Hello! How can I assist you today?\n",
      "tool_calls : []\n"
     ]
    }
   ],
   "execution_count": 21
  },
  {
   "metadata": {
    "ExecuteTime": {
     "end_time": "2025-04-11T18:26:22.538002Z",
     "start_time": "2025-04-11T18:26:21.772189Z"
    }
   },
   "cell_type": "code",
   "source": [
    "#example 2\n",
    "response=model_with_tools.invoke([HumanMessage(content=\"How is the weather at Fremont now?\")])\n",
    "print(\"content :\", response.content)\n",
    "print(\"tool_calls :\",response.tool_calls)"
   ],
   "id": "eaac3e2e399c832f",
   "outputs": [
    {
     "name": "stdout",
     "output_type": "stream",
     "text": [
      "content : \n",
      "tool_calls : [{'name': 'tavily_search_results_json', 'args': {'query': 'current weather Fremont'}, 'id': 'call_vkxtkmCrIIoIU5gPvXM2ZB3A', 'type': 'tool_call'}]\n"
     ]
    }
   ],
   "execution_count": 22
  },
  {
   "metadata": {
    "ExecuteTime": {
     "end_time": "2025-04-11T18:29:52.965856Z",
     "start_time": "2025-04-11T18:29:52.894635Z"
    }
   },
   "cell_type": "code",
   "source": [
    "# creating an agent\n",
    "from langgraph.prebuilt import create_react_agent\n",
    "agent_executor=create_react_agent(model,tools)\n",
    "\n"
   ],
   "id": "a76d0e26a79db122",
   "outputs": [],
   "execution_count": 23
  },
  {
   "metadata": {
    "ExecuteTime": {
     "end_time": "2025-04-11T18:33:02.841615Z",
     "start_time": "2025-04-11T18:33:02.315286Z"
    }
   },
   "cell_type": "code",
   "source": [
    "#simple hi message , no tools are invoked\n",
    "response=agent_executor.invoke({\"messages\":[HumanMessage(content=\"Hi\")]})\n",
    "response[\"messages\"]"
   ],
   "id": "84b694ac0a12e681",
   "outputs": [
    {
     "data": {
      "text/plain": [
       "[HumanMessage(content='Hi', additional_kwargs={}, response_metadata={}, id='203deea3-6770-40c3-a51a-03804e65400f'),\n",
       " AIMessage(content='Hello! How can I assist you today?', additional_kwargs={'refusal': None}, response_metadata={'token_usage': {'completion_tokens': 11, 'prompt_tokens': 80, 'total_tokens': 91, 'completion_tokens_details': {'accepted_prediction_tokens': 0, 'audio_tokens': 0, 'reasoning_tokens': 0, 'rejected_prediction_tokens': 0}, 'prompt_tokens_details': {'audio_tokens': 0, 'cached_tokens': 0}}, 'model_name': 'gpt-4o-mini-2024-07-18', 'system_fingerprint': 'fp_44added55e', 'id': 'chatcmpl-BLDTSgMHPdakg7g4DDeKtNyFgXi5c', 'finish_reason': 'stop', 'logprobs': None}, id='run-13a5bcd1-f927-4c6b-b37c-77af4a2120c1-0', usage_metadata={'input_tokens': 80, 'output_tokens': 11, 'total_tokens': 91, 'input_token_details': {'audio': 0, 'cache_read': 0}, 'output_token_details': {'audio': 0, 'reasoning': 0}})]"
      ]
     },
     "execution_count": 27,
     "metadata": {},
     "output_type": "execute_result"
    }
   ],
   "execution_count": 27
  },
  {
   "metadata": {
    "ExecuteTime": {
     "end_time": "2025-04-11T18:34:31.715763Z",
     "start_time": "2025-04-11T18:34:23.285176Z"
    }
   },
   "cell_type": "code",
   "source": [
    "response=agent_executor.invoke({\"messages\":[HumanMessage(content=\"what is the weather at Fremont now?\")]})\n",
    "response[\"messages\"]"
   ],
   "id": "93f99a671f2aca4d",
   "outputs": [
    {
     "data": {
      "text/plain": [
       "[HumanMessage(content='what is the weather at Fremont now?', additional_kwargs={}, response_metadata={}, id='62f99bd5-eaa3-459f-83fb-8b6a1e4d015e'),\n",
       " AIMessage(content='', additional_kwargs={'tool_calls': [{'id': 'call_90Br8EbUv5gvToZBUFXE98Wq', 'function': {'arguments': '{\"query\":\"current weather Fremont\"}', 'name': 'tavily_search_results_json'}, 'type': 'function'}], 'refusal': None}, response_metadata={'token_usage': {'completion_tokens': 21, 'prompt_tokens': 87, 'total_tokens': 108, 'completion_tokens_details': {'accepted_prediction_tokens': 0, 'audio_tokens': 0, 'reasoning_tokens': 0, 'rejected_prediction_tokens': 0}, 'prompt_tokens_details': {'audio_tokens': 0, 'cached_tokens': 0}}, 'model_name': 'gpt-4o-mini-2024-07-18', 'system_fingerprint': 'fp_44added55e', 'id': 'chatcmpl-BLDUlWm7cJNY6n2qrNy5GzB94kAXU', 'finish_reason': 'tool_calls', 'logprobs': None}, id='run-c518de39-c915-44bb-8bfd-09f332e9c338-0', tool_calls=[{'name': 'tavily_search_results_json', 'args': {'query': 'current weather Fremont'}, 'id': 'call_90Br8EbUv5gvToZBUFXE98Wq', 'type': 'tool_call'}], usage_metadata={'input_tokens': 87, 'output_tokens': 21, 'total_tokens': 108, 'input_token_details': {'audio': 0, 'cache_read': 0}, 'output_token_details': {'audio': 0, 'reasoning': 0}}),\n",
       " ToolMessage(content='[{\"title\": \"April 2025 Weather in Fremont, CA - WeatherShogun\", \"url\": \"https://weathershogun.com/weather/usa/ca/fremont/432/april\", \"content\": \"April 2025 Weather | Fremont, California. Today 4/11. Cloudy weather, overcast skies with clouds. Day 72°. Night 48°.\", \"score\": 0.9407083}, {\"title\": \"April 2025 Weather History in Fremont California, United States\", \"url\": \"https://weatherspark.com/h/m/1076/2025/4/Tiempo-hist%C3%B3rico-en-abril-de-2025-en-Fremont-California-Estados-Unidos\", \"content\": \"Latest Report — 12:56 PM ; Temp. 55.0°F ; Wind. 19.6 mph ; Cloud Cover. Mostly Cloudy 4,800 ft\", \"score\": 0.8980626}]', name='tavily_search_results_json', id='091d0185-74c0-47b5-95d5-fa42bf296ac9', tool_call_id='call_90Br8EbUv5gvToZBUFXE98Wq', artifact={'query': 'current weather Fremont', 'follow_up_questions': None, 'answer': None, 'images': [], 'results': [{'url': 'https://weathershogun.com/weather/usa/ca/fremont/432/april', 'title': 'April 2025 Weather in Fremont, CA - WeatherShogun', 'content': 'April 2025 Weather | Fremont, California. Today 4/11. Cloudy weather, overcast skies with clouds. Day 72°. Night 48°.', 'score': 0.9407083, 'raw_content': None}, {'url': 'https://weatherspark.com/h/m/1076/2025/4/Tiempo-hist%C3%B3rico-en-abril-de-2025-en-Fremont-California-Estados-Unidos', 'title': 'April 2025 Weather History in Fremont California, United States', 'content': 'Latest Report — 12:56 PM ; Temp. 55.0°F ; Wind. 19.6 mph ; Cloud Cover. Mostly Cloudy 4,800 ft', 'score': 0.8980626, 'raw_content': None}], 'response_time': 3.93}),\n",
       " AIMessage(content='The current weather in Fremont, California is mostly cloudy with a temperature of 55.0°F. There is also a wind speed of 19.6 mph, and the skies are overcast. \\n\\nFor more details, you can check out the sources: [WeatherShogun](https://weathershogun.com/weather/usa/ca/fremont/432/april) and [Weather Spark](https://weatherspark.com/h/m/1076/2025/4/Tiempo-hist%C3%B3rico-en-abril-de-2025-en-Fremont-California-Estados-Unidos).', additional_kwargs={'refusal': None}, response_metadata={'token_usage': {'completion_tokens': 129, 'prompt_tokens': 328, 'total_tokens': 457, 'completion_tokens_details': {'accepted_prediction_tokens': 0, 'audio_tokens': 0, 'reasoning_tokens': 0, 'rejected_prediction_tokens': 0}, 'prompt_tokens_details': {'audio_tokens': 0, 'cached_tokens': 0}}, 'model_name': 'gpt-4o-mini-2024-07-18', 'system_fingerprint': 'fp_44added55e', 'id': 'chatcmpl-BLDUq0mJGcYv225EQ2y0ir6FWna3f', 'finish_reason': 'stop', 'logprobs': None}, id='run-b4dcaabc-8288-44f7-99a9-71b5a22539e6-0', usage_metadata={'input_tokens': 328, 'output_tokens': 129, 'total_tokens': 457, 'input_token_details': {'audio': 0, 'cache_read': 0}, 'output_token_details': {'audio': 0, 'reasoning': 0}})]"
      ]
     },
     "execution_count": 28,
     "metadata": {},
     "output_type": "execute_result"
    }
   ],
   "execution_count": 28
  }
 ],
 "metadata": {
  "kernelspec": {
   "display_name": "Python 3",
   "language": "python",
   "name": "python3"
  },
  "language_info": {
   "codemirror_mode": {
    "name": "ipython",
    "version": 2
   },
   "file_extension": ".py",
   "mimetype": "text/x-python",
   "name": "python",
   "nbconvert_exporter": "python",
   "pygments_lexer": "ipython2",
   "version": "2.7.6"
  }
 },
 "nbformat": 4,
 "nbformat_minor": 5
}
