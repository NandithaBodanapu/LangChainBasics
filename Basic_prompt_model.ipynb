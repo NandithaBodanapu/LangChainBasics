{
 "cells": [
  {
   "cell_type": "code",
   "id": "initial_id",
   "metadata": {
    "collapsed": true,
    "ExecuteTime": {
     "end_time": "2025-04-10T20:25:48.022951Z",
     "start_time": "2025-04-10T20:25:48.018242Z"
    }
   },
   "source": [
    "#references-https://www.youtube.com/watch?v=yF9kGESAi3M&t=1640s\n",
    "# why prompt\n",
    "#queries= userinput+application logic\n",
    "#previously we just passed queries directly using messages\n",
    "#application logic is raw input from the user , transform it into list of messages\n",
    "#prompt template - > used for performing this transformation"
   ],
   "outputs": [],
   "execution_count": 2
  },
  {
   "metadata": {
    "ExecuteTime": {
     "end_time": "2025-04-14T21:22:24.078854Z",
     "start_time": "2025-04-14T21:22:23.225979Z"
    }
   },
   "cell_type": "code",
   "source": [
    "import os\n",
    "from dotenv import load_dotenv\n",
    "from langchain.chat_models import init_chat_model\n",
    "\n",
    "load_dotenv()\n",
    "api_key = os.getenv(\"OPENAI_API_KEY\")\n",
    "os.environ[\"OPENAI_API_KEY\"] = api_key\n",
    "\n",
    "model =init_chat_model(\"gpt-4o-mini\",model_provider=\"openai\")\n"
   ],
   "id": "5d0980ca15cc0296",
   "outputs": [],
   "execution_count": 1
  },
  {
   "metadata": {
    "ExecuteTime": {
     "end_time": "2025-04-10T20:25:55.774710Z",
     "start_time": "2025-04-10T20:25:53.910169Z"
    }
   },
   "cell_type": "code",
   "source": [
    "from langchain_core.prompts import ChatPromptTemplate\n",
    "#good writing practice\n",
    "system_template=\"Translate the following from english to {language}\"\n",
    "\n",
    "prompt_template=ChatPromptTemplate.from_messages(\n",
    "    [(\"system\",system_template),(\"user\",\"{text}\")],\n",
    ")\n",
    "\n",
    "prompt=prompt_template.invoke({\"language\":\"hindi\",\"text\":\"good morning\"})\n",
    "prompt.to_messages()# will show us the system, human messages with the substituted inputs\n",
    "response= model.invoke(prompt)\n",
    "print(response.content)\n",
    "\n"
   ],
   "id": "1a705c237a33873",
   "outputs": [
    {
     "name": "stdout",
     "output_type": "stream",
     "text": [
      "शुभ प्रभात\n"
     ]
    }
   ],
   "execution_count": 4
  },
  {
   "metadata": {
    "ExecuteTime": {
     "end_time": "2025-04-04T22:02:17.726633Z",
     "start_time": "2025-04-04T22:02:14.440986Z"
    }
   },
   "cell_type": "code",
   "source": [
    "#example 2\n",
    "# casual way of writing , but works\n",
    "template=\"can you give me a pallindrom upto {number}\"\n",
    "prompt_template=ChatPromptTemplate.from_template(template)\n",
    "prompt=prompt_template.invoke({\"number\":\"5\"})\n",
    "print(prompt)\n",
    "response=model.invoke(prompt)\n",
    "response.content"
   ],
   "id": "f31231da9edfad86",
   "outputs": [
    {
     "name": "stdout",
     "output_type": "stream",
     "text": [
      "messages=[HumanMessage(content='can you give me a pallindrom upto 5', additional_kwargs={}, response_metadata={})]\n"
     ]
    },
    {
     "data": {
      "text/plain": [
       "'A palindrome is a word, phrase, number, or other sequence of characters that reads the same forward and backward. Here are palindromes consisting of up to 5 characters:\\n\\n1. 1\\n2. 2\\n3. 3\\n4. 4\\n5. 5\\n6. 121\\n7. 1221\\n8. 1331\\n9. 11111\\n\\nIf you meant palindromic words, here are some examples:\\n\\n1. \"a\"\\n2. \"mom\"\\n3. \"dad\"\\n4. \"racecar\"\\n5. \"level\"\\n\\nPlease specify if you meant something different!'"
      ]
     },
     "execution_count": 11,
     "metadata": {},
     "output_type": "execute_result"
    }
   ],
   "execution_count": 11
  }
 ],
 "metadata": {
  "kernelspec": {
   "display_name": "Python 3",
   "language": "python",
   "name": "python3"
  },
  "language_info": {
   "codemirror_mode": {
    "name": "ipython",
    "version": 2
   },
   "file_extension": ".py",
   "mimetype": "text/x-python",
   "name": "python",
   "nbconvert_exporter": "python",
   "pygments_lexer": "ipython2",
   "version": "2.7.6"
  }
 },
 "nbformat": 4,
 "nbformat_minor": 5
}
